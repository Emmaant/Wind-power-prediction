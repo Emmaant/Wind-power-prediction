{
 "cells": [
  {
   "cell_type": "markdown",
   "metadata": {},
   "source": [
    "# Analysis of Graphs\n",
    "This file contains analysis and visualizations of the graphs created in do_create_graph.py."
   ]
  },
  {
   "cell_type": "code",
   "execution_count": 3,
   "metadata": {},
   "outputs": [],
   "source": [
    "import torch\n",
    "import networkx as nx\n",
    "import matplotlib.pyplot as plt\n",
    "from torch_geometric.loader import DataLoader\n",
    "import pandas as pd\n",
    "import numpy as np\n",
    "from matplotlib.patches import FancyArrowPatch\n",
    "\n",
    "from graph_helpers import *"
   ]
  },
  {
   "cell_type": "code",
   "execution_count": null,
   "metadata": {},
   "outputs": [],
   "source": [
    "def get_split_index(y):\n",
    "    rng = np.random.RandomState(42)  # For reproducibility\n",
    "    N = len(y)\n",
    "    indices = np.arange(N)\n",
    "\n",
    "    val_size = config.data_settings.validation_ratio\n",
    "    test_size = config.data_settings.test_ratio\n",
    "    sample_window = config.data_settings.sample_window\n",
    "    test_val_size = int(N * (val_size + test_size))\n",
    "\n",
    "    valid_rows = ~np.isnan(y).any(axis=1)\n",
    "    valid_indices = np.where(valid_rows)[0]\n",
    "\n",
    "    if len(valid_indices) < test_val_size:\n",
    "        raise ValueError(f\"Not enough valid samples. Needed: {test_val_size}, Available: {len(valid_indices)}\")\n",
    "\n",
    "    collected = set()\n",
    "    attempts = 0\n",
    "    max_attempts = 50000  \n",
    "\n",
    "    while len(collected) < test_val_size and attempts < max_attempts:\n",
    "        start_idx = rng.choice(valid_indices)\n",
    "        following_valid = valid_indices[valid_indices >= start_idx]\n",
    "        window = following_valid[:sample_window]\n",
    "        collected.update(window)\n",
    "        attempts += 1\n",
    "\n",
    "    collected = list(collected)\n",
    "    if len(collected) < test_val_size:\n",
    "        raise ValueError(f\"Only {len(collected)} valid indices collected after resampling, but {test_val_size} required.\")\n",
    "\n",
    "    selected_indices = collected[:test_val_size]\n",
    "    val_end = int(len(selected_indices) * val_size / (val_size + test_size))\n",
    "\n",
    "    val_indices = np.array(list(selected_indices[:val_end]))\n",
    "    test_indices = np.array(list(selected_indices[val_end:]))\n",
    "\n",
    "    train_indices = np.setdiff1d(indices, selected_indices)\n",
    "    rng.shuffle(train_indices)\n",
    "\n",
    "    return train_indices, val_indices, test_indices"
   ]
  },
  {
   "cell_type": "code",
   "execution_count": 73,
   "metadata": {},
   "outputs": [
    {
     "data": {
      "text/plain": [
       "(array([1169, 6098,  115, ..., 2885, 6076,  643], shape=(8000,)),\n",
       " array([   1, 8194, 8195,    4,    5,    9, 8202,   11,   13, 8208,   16,\n",
       "        8212, 8213,   21, 8219, 8220, 8226, 8227, 8228, 8230,   38, 8232,\n",
       "        8234, 8238, 8245,   54,   55,   60,   64, 8258,   72, 8264,   74,\n",
       "          77,   78,   89,   94, 8286,   98,  105, 8306, 8308,  117,  116,\n",
       "        8311,  125,  126, 8319, 8320, 8321, 8322,  130,  133, 8325,  137,\n",
       "         140, 8335,  145, 8338,  147, 8340,  148,  153,  154,  158, 8352,\n",
       "         161,  163, 8356, 8357, 8363, 8378,  189,  190,  197, 8389, 8392,\n",
       "        8393,  202,  206,  207,  213, 8407, 8415,  224,  225,  232, 8427,\n",
       "         235, 8428,  236, 8429, 8433, 8434, 8435, 8436,  249, 8442, 8445,\n",
       "         255,  260, 8453,  262,  269,  271, 8465, 8467,  277, 8472,  281,\n",
       "        8476, 8477,  285,  294,  301,  302,  306, 8502, 8503, 8508,  317,\n",
       "        8512, 8519,  329, 8527, 8529,  338,  340, 8533,  341,  345,  352,\n",
       "        8549, 8551, 8554,  362,  364, 8555,  365, 8561, 8564,  374, 8567,\n",
       "        8569, 8571,  384, 8577, 8580,  390,  391,  392, 8586,  395, 8591,\n",
       "        8592, 8595,  404, 8597,  406, 8599, 8601,  412,  417, 8609,  419,\n",
       "        8616, 8619, 8623, 8632, 8633, 8636, 8646, 8647,  454, 8648,  458,\n",
       "        8656,  466, 8659, 8662, 8666, 8669,  481,  482, 8680,  488, 8684,\n",
       "        8691,  502,  504, 8702,  512, 8705,  514, 8707, 8711, 8712, 8714,\n",
       "         523, 8716, 8717,  526,  525,  529,  536,  537,  539, 8734,  545,\n",
       "        8737,  552,  556,  559,  560, 8754, 8755,  569,  571,  574, 8766,\n",
       "         575,  580,  583, 8780, 8782, 8783, 8785,  593, 8787, 8792,  600,\n",
       "        8795,  606, 8800, 8801,  614, 8808,  619, 8815, 8820,  629,  630,\n",
       "         632,  634,  635,  638, 8837, 8838,  645, 8841, 8843,  659,  661,\n",
       "        8853,  663,  666,  667,  671, 8865, 8867,  686,  688,  689, 8884,\n",
       "         698,  699,  703, 8896,  707, 8901, 8905, 8906, 8907,  716,  717,\n",
       "        8914, 8915,  726,  728, 8920, 8924, 8927, 8930, 8932, 8941, 8942,\n",
       "        8945, 8946,  760, 8954, 8958,  767,  768,  769,  770, 8964, 8966,\n",
       "         775, 8967,  778,  780,  784, 8980,  791, 8984,  793, 8987, 8989,\n",
       "        8996,  804,  806, 9005,  814, 9007, 9011, 9013,  822,  823,  824,\n",
       "         825, 9018,  827, 9017,  830,  832,  845,  846, 9041, 9042,  851,\n",
       "         853,  854, 9047,  860,  863, 9062, 9064,  876,  878, 9074, 9076,\n",
       "        9077, 9078,  891,  892, 9086, 9087,  894, 9091,  899, 9093, 9094,\n",
       "        9092, 9098, 9105, 9106, 9108, 9109,  918, 9111,  920,  917,  922,\n",
       "        9110,  924,  928,  933, 9126, 9127,  936, 9130, 9131,  943, 9135,\n",
       "        9138,  950,  951,  953, 9146,  954,  956,  955, 9151,  959, 9153,\n",
       "        9154, 9155,  963,  966,  968, 9160, 9163,  974, 9167,  980, 9175,\n",
       "         984,  986, 9179,  988, 9181,  987, 9183, 9184,  995, 1000, 9196,\n",
       "        1007, 9200, 9204, 1012, 9206, 9207, 9208, 1016, 1015, 1021, 9218,\n",
       "        1028, 9223, 9227, 1040, 9235, 1045, 1048, 1050, 1058, 1059, 1060,\n",
       "        1062, 1063, 1065, 1066, 1069, 1072, 9268, 1077, 1081, 9274, 9273,\n",
       "        1098, 1100, 9299, 9310, 1120, 9312, 1122, 1125, 9323, 9325, 9328,\n",
       "        1136, 9331, 9333, 9337, 9339, 1148, 1150, 1154, 9347, 9348, 9352,\n",
       "        1165, 9358, 1167, 9361, 1177, 1179, 9374, 1184, 9382, 1191, 1198,\n",
       "        1202, 9397, 1205, 9400, 1214, 9409, 1218, 1229, 9424, 1239, 1240,\n",
       "        1241, 9435, 9437, 1246, 9439, 1248, 1249, 9442, 1252, 9444, 9446,\n",
       "        1256, 9454, 1265, 1266, 1267, 9461, 9465, 1274, 9467, 1276, 1279,\n",
       "        9472, 9474, 9477, 1286, 1290, 1291, 1296, 9492, 1301, 1300, 1304,\n",
       "        1306, 9499, 1308, 9503, 9504, 1312, 9506, 9508, 1316, 9510, 1324,\n",
       "        9516, 9519, 9521, 1331, 9524, 1333, 1341, 1342, 1343, 9539, 9540,\n",
       "        1353, 9547, 9550, 9555, 9556, 1365, 1367, 9561, 1380, 1382, 9576,\n",
       "        1386, 1387, 9580, 1389, 9579, 1390, 1388, 1394, 9588, 1403, 9600,\n",
       "        1409, 9610, 1435, 9631, 1440, 9633, 1442, 9637, 9645, 9650, 9651,\n",
       "        1460, 9654, 9655, 1466, 9662, 9667, 9670, 1481, 1484, 9685, 9686,\n",
       "        9687, 1495, 9692, 1500, 9700, 9708, 9710, 1521, 9715, 1524, 1525,\n",
       "        9719, 1528, 9721, 1531, 1540, 9732, 1542, 9738, 9739, 1549, 1555,\n",
       "        9752, 1560, 9759, 9760, 9762, 1571, 9765, 9766, 9768, 9769, 9771,\n",
       "        1581, 9776, 1585, 9777, 1591, 9788, 9789, 9793, 9795, 1604, 1605,\n",
       "        1607, 9805, 1619, 1622, 9816, 9817, 1625, 9823, 1633, 9827, 1636,\n",
       "        9828, 9829, 9831, 1639, 1640, 1638, 9832, 1645, 1646, 1648, 9847,\n",
       "        9852, 1663, 1664, 1667, 9860, 1668, 9865, 9866, 1678, 1679, 9872,\n",
       "        9873, 9874, 1682, 1685, 1686, 1687, 9879, 1689, 9882, 9884, 1693,\n",
       "        9888, 1704, 1707, 9900, 1709, 9903, 1712, 9905, 9907, 9908, 9911,\n",
       "        9914, 9916, 9917, 9925, 1734, 1733, 1735, 1742, 1750, 9945, 1757,\n",
       "        9949, 1759, 1761, 1762, 1763, 9956, 9958, 1771, 9977, 1792, 9984,\n",
       "        9986, 1796, 9989, 1798, 9991, 1802, 9996, 1804, 9998, 1810, 1816,\n",
       "        1823, 1826, 1827, 1828, 1838, 1841, 1843, 1852, 1853, 1854, 1865,\n",
       "        1868, 1875, 1884, 1887, 1895, 1899, 1906, 1908, 1913, 1917, 1925,\n",
       "        1927, 1930, 1931, 1933, 1939, 1949, 1959, 1960, 1969, 1970, 1976,\n",
       "        1980, 1986, 1990, 1994, 1997, 1998, 2000, 2026, 2027, 2032, 2033,\n",
       "        2043, 2044, 2047, 2048, 2049, 2050, 2051, 2056, 2060, 2062, 2064,\n",
       "        2065, 2071, 2074, 2079, 2082, 2105, 2106, 2113, 2116, 2120, 2125,\n",
       "        2136, 2137, 2139, 2141, 2143, 2156, 2162, 2180, 2190, 2192, 2193,\n",
       "        2196, 2198, 2200, 2203, 2204, 2205, 2219, 2243, 2247, 2255, 2265,\n",
       "        2278, 2279, 2289, 2293, 2322, 2327, 2336, 2343, 2349, 2353, 2355,\n",
       "        2356, 2359, 2365, 2368, 2371, 2376, 2382, 2383, 2385, 2393, 2396,\n",
       "        2403, 2408, 2419, 2421, 2427, 2428, 2430, 2433, 2443, 2454, 2466,\n",
       "        2469, 2472, 2475, 2479, 2482, 2489, 2491, 2493, 2494, 2496, 2502,\n",
       "        2504, 2511, 2529, 2530, 2538, 2539, 2541, 2551, 2557, 2558, 2560,\n",
       "        2568, 2573, 2590, 2593, 2599, 2604, 2612, 2632, 2635, 2645, 2665,\n",
       "        2667, 2672, 2674, 2679, 2681, 2693, 2695, 2703, 2708, 2711, 2712,\n",
       "        2713, 2717, 2719, 2720, 2731, 2733, 2734, 2736, 2738, 2739, 2740,\n",
       "        2744, 2745, 2747, 2752, 2768, 2772, 2779, 2782, 2785, 2786, 2790,\n",
       "        2797, 2806, 2808, 2811, 2814, 2817, 2824, 2832, 2838, 2839, 2844,\n",
       "        2849, 2852, 2863, 2866, 2869, 2871, 2872, 2875, 2878, 2891, 2896,\n",
       "        2898, 2911, 2914, 2920, 2923, 2931, 2946, 2950, 2958, 2961, 2964,\n",
       "        2967, 2969, 2975, 2976, 2978, 2983, 2989, 3004, 3005, 3009, 3020,\n",
       "        3028, 3030, 3036, 3040, 3041, 3042, 3051, 3054, 3056, 3067, 3072,\n",
       "        3073, 3081, 3083, 3086, 3093, 3097, 3099, 3104, 3108, 3117, 3124,\n",
       "        3138, 3141, 3144, 3147, 3152, 3155, 3157, 3170, 3173, 3174, 3177,\n",
       "        3178, 3179, 3186, 3191, 3192, 3216, 3223, 3224, 3225, 3228, 3230,\n",
       "        3239, 3241, 3242, 3249, 3266, 3267, 3271, 3273, 3291, 3292]),\n",
       " array([3294, 3300, 3302, 3304, 3310, 3324, 3327, 3330, 3335, 3342, 3343,\n",
       "        3345, 3354, 3356, 3368, 3373, 3374, 3376, 3380, 3385, 3389, 3391,\n",
       "        3394, 3417, 3419, 3420, 3427, 3430, 3432, 3436, 3440, 3444, 3446,\n",
       "        3451, 3452, 3453, 3456, 3462, 3466, 3472, 3476, 3486, 3490, 3493,\n",
       "        3496, 3506, 3507, 3510, 3511, 3517, 3530, 3531, 3549, 3553, 3556,\n",
       "        3561, 3564, 3568, 3572, 3579, 3581, 3584, 3591, 3594, 3596, 3598,\n",
       "        3600, 3610, 3627, 3629, 3631, 3633, 3636, 3638, 3640, 3644, 3654,\n",
       "        3665, 3672, 3675, 3676, 3683, 3687, 3695, 3696, 3701, 3709, 3712,\n",
       "        3713, 3714, 3716, 3719, 3725, 3726, 3735, 3738, 3741, 3744, 3747,\n",
       "        3748, 3756, 3760, 3762, 3763, 3766, 3769, 3775, 3778, 3788, 3797,\n",
       "        3810, 3812, 3814, 3818, 3828, 3839, 3840, 3843, 3845, 3850, 3854,\n",
       "        3863, 3874, 3876, 3890, 3897, 3900, 3911, 3913, 3925, 3926, 3930,\n",
       "        3943, 3953, 3972, 3974, 3983, 3987, 3993, 3998, 4000, 4014, 4018,\n",
       "        4021, 4033, 4036, 4037, 4061, 4070, 4079, 4090, 4107, 4109, 4114,\n",
       "        4116, 4124, 4133, 4142, 4143, 4146, 4150, 4158, 4164, 4167, 4171,\n",
       "        4175, 4177, 4178, 4179, 4186, 4188, 4197, 4199, 4200, 4203, 4206,\n",
       "        4208, 4211, 4212, 4218, 4223, 4225, 4227, 4232, 4234, 4242, 4243,\n",
       "        4249, 4255, 4259, 4261, 4263, 4268, 4278, 4282, 4285, 4286, 4289,\n",
       "        4293, 4297, 4300, 4311, 4312, 4324, 4330, 4346, 4349, 4356, 4358,\n",
       "        4360, 4361, 4363, 4380, 4388, 4389, 4399, 4406, 4413, 4422, 4425,\n",
       "        4426, 4430, 4431, 4432, 4433, 4435, 4437, 4440, 4443, 4445, 4451,\n",
       "        4452, 4465, 4468, 4470, 4473, 4481, 4488, 4491, 4492, 4493, 4494,\n",
       "        4495, 4496, 4497, 4499, 4517, 4524, 4530, 4531, 4543, 4544, 4547,\n",
       "        4548, 4555, 4566, 4569, 4576, 4585, 4592, 4599, 4611, 4612, 4616,\n",
       "        4621, 4632, 4636, 4637, 4642, 4644, 4648, 4658, 4662, 4670, 4673,\n",
       "        4675, 4703, 4719, 4729, 4732, 4735, 4736, 4737, 4748, 4752, 4757,\n",
       "        4760, 4777, 4780, 4784, 4788, 4790, 4795, 4798, 4799, 4804, 4805,\n",
       "        4806, 4809, 4811, 4815, 4820, 4831, 4835, 4837, 4839, 4841, 4846,\n",
       "        4849, 4853, 4854, 4858, 4859, 4869, 4873, 4876, 4882, 4887, 4892,\n",
       "        4893, 4895, 4904, 4909, 4910, 4911, 4917, 4926, 4931, 4940, 4944,\n",
       "        4946, 4964, 4968, 4971, 4973, 4976, 4980, 5005, 5010, 5016, 5029,\n",
       "        5031, 5043, 5047, 5051, 5052, 5056, 5063, 5068, 5073, 5078, 5083,\n",
       "        5084, 5085, 5088, 5101, 5104, 5105, 5109, 5115, 5116, 5122, 5124,\n",
       "        5126, 5134, 5136, 5142, 5150, 5161, 5172, 5175, 5177, 5178, 5179,\n",
       "        5182, 5188, 5189, 5191, 5203, 5207, 5208, 5222, 5232, 5233, 5237,\n",
       "        5238, 5240, 5243, 5249, 5252, 5256, 5258, 5276, 5280, 5287, 5291,\n",
       "        5293, 5295, 5299, 5301, 5305, 5311, 5315, 5319, 5320, 5330, 5334,\n",
       "        5342, 5343, 5346, 5348, 5352, 5370, 5373, 5383, 5387, 5390, 5392,\n",
       "        5393, 5401, 5408, 5415, 5420, 5423, 5429, 5435, 5439, 5442, 5445,\n",
       "        5448, 5449, 5450, 5463, 5468, 5472, 5475, 5486, 5490, 5495, 5510,\n",
       "        5530, 5534, 5535, 5536, 5539, 5541, 5542, 5543, 5548, 5560, 5565,\n",
       "        5567, 5569, 5575, 5578, 5585, 5588, 5592, 5596, 5600, 5604, 5607,\n",
       "        5618, 5619, 5622, 5625, 5626, 5631, 5644, 5645, 5655, 5656, 5658,\n",
       "        5671, 5675, 5690, 5691, 5693, 5699, 5704, 5713, 5724, 5726, 5732,\n",
       "        5734, 5742, 5745, 5750, 5752, 5757, 5759, 5760, 5765, 5772, 5776,\n",
       "        5777, 5779, 5782, 5788, 5791, 5796, 5797, 5801, 5811, 5827, 5854,\n",
       "        5855, 5864, 5870, 5877, 5878, 5881, 5887, 5892, 5895, 5897, 5901,\n",
       "        5907, 5913, 5915, 5917, 5919, 5941, 5947, 5949, 5951, 5954, 5959,\n",
       "        5962, 5966, 5971, 5975, 5977, 5978, 5984, 5986, 5988, 5989, 5997,\n",
       "        6002, 6007, 6012, 6015, 6016, 6019, 6024, 6028, 6031, 6035, 6036,\n",
       "        6038, 6042, 6047, 6052, 6059, 6078, 6082, 6089, 6090, 6097, 6099,\n",
       "        6102, 6116, 6122, 6132, 6136, 6140, 6150, 6154, 6164, 6166, 6168,\n",
       "        6172, 6183, 6184, 6185, 6190, 6197, 6212, 6228, 6229, 6230, 6233,\n",
       "        6235, 6236, 6238, 6241, 6254, 6257, 6262, 6265, 6269, 6272, 6276,\n",
       "        6278, 6283, 6284, 6287, 6288, 6293, 6294, 6295, 6303, 6305, 6313,\n",
       "        6316, 6320, 6327, 6331, 6342, 6353, 6356, 6359, 6368, 6371, 6374,\n",
       "        6376, 6396, 6402, 6406, 6413, 6420, 6430, 6439, 6441, 6446, 6456,\n",
       "        6457, 6467, 6469, 6471, 6477, 6484, 6488, 6490, 6493, 6506, 6511,\n",
       "        6514, 6525, 6527, 6528, 6530, 6540, 6541, 6542, 6544, 6546, 6548,\n",
       "        6549, 6563, 6565, 6570, 6573, 6585, 6588, 6600, 6602, 6609, 6610,\n",
       "        6612, 6614, 6616, 6617, 6619, 6635, 6638, 6640, 6644, 6645, 6652,\n",
       "        6655, 6656, 6665, 6667, 6668, 6674, 6675, 6677, 6694, 6704, 6709,\n",
       "        6721, 6722, 6731, 6732, 6736, 6737, 6738, 6748, 6764, 6766, 6767,\n",
       "        6770, 6776, 6777, 6780, 6783, 6787, 6793, 6799, 6801, 6806, 6807,\n",
       "        6809, 6812, 6813, 6819, 6833, 6852, 6863, 6869, 6873, 6881, 6882,\n",
       "        6891, 6892, 6893, 6894, 6895, 6898, 6905, 6907, 6910, 6917, 6924,\n",
       "        6928, 6936, 6937, 6938, 6941, 6943, 6944, 6949, 6960, 6966, 6970,\n",
       "        6971, 6979, 6980, 6981, 6986, 6988, 6996, 7000, 7002, 7004, 7005,\n",
       "        7009, 7010, 7014, 7022, 7026, 7027, 7029, 7035, 7041, 7043, 7045,\n",
       "        7052, 7056, 7057, 7059, 7062, 7069, 7079, 7083, 7088, 7098, 7099,\n",
       "        7101, 7102, 7112, 7114, 7115, 7117, 7119, 7121, 7123, 7124, 7125,\n",
       "        7126, 7137, 7138, 7140, 7141, 7147, 7151, 7154, 7158, 7164, 7175,\n",
       "        7177, 7179, 7184, 7186, 7190, 7192, 7196, 7206, 7208, 7214, 7215,\n",
       "        7218, 7221, 7227, 7232, 7239, 7240, 7241, 7245, 7253, 7266, 7270,\n",
       "        7274, 7280, 7285, 7287, 7291, 7294, 7311, 7312, 7314, 7326, 7327,\n",
       "        7330, 7339, 7340, 7343, 7350, 7351, 7357, 7368, 7373, 7380, 7385,\n",
       "        7390, 7392, 7394, 7397, 7400, 7404, 7408, 7409, 7418, 7419, 7421,\n",
       "        7424, 7426, 7437, 7446, 7449, 7451, 7455, 7473, 7479, 7483, 7486,\n",
       "        7489, 7490, 7491, 7494, 7504, 7509, 7511, 7513, 7519, 7526, 7543,\n",
       "        7546, 7554, 7555, 7560, 7561, 7564, 7570, 7574, 7575, 7576, 7577,\n",
       "        7587, 7595, 7617, 7622, 7629, 7638, 7641, 7643, 7648, 7650, 7651,\n",
       "        7657, 7667, 7668, 7673, 7674, 7679, 7683, 7686, 7687, 7693, 7694,\n",
       "        7705, 7714, 7715, 7721, 7723, 7725, 7730, 7734, 7758, 7761, 7776,\n",
       "        7777, 7783, 7788, 7790, 7804, 7805, 7806, 7813, 7827, 7830, 7832,\n",
       "        7833, 7842, 7843, 7848, 7849, 7857, 7858, 7860, 7863, 7867, 7869,\n",
       "        7870, 7878, 7891, 7892, 7898, 7901, 7904, 7906, 7916, 7939, 7941,\n",
       "        7943, 7956, 7961, 7967, 7970, 7973, 7979, 7980, 7982, 7984, 7987,\n",
       "        7989, 7992, 7993, 7994, 7996, 8002, 8004, 8006, 8007, 8010, 8017,\n",
       "        8032, 8038, 8041, 8044, 8050, 8053, 8056, 8058, 8070, 8073, 8080,\n",
       "        8082, 8096, 8105, 8110, 8120, 8123, 8125, 8130, 8133, 8135, 8150,\n",
       "        8152, 8154, 8155, 8162, 8164, 8172, 8173, 8175, 8189, 8190]))"
      ]
     },
     "execution_count": 73,
     "metadata": {},
     "output_type": "execute_result"
    }
   ],
   "source": [
    "y = np.arange(10000).reshape(-1,1)\n",
    "get_split_index(y)"
   ]
  },
  {
   "cell_type": "code",
   "execution_count": 388,
   "metadata": {},
   "outputs": [],
   "source": [
    "train_file_path = '/Users/lisavind/GitHub/wind_power_prediction/data/graphs/directed_True_simulated_True_local_False_global_True_features_4_D_136_length_2720_width_2_angle_3/train.pt'\n"
   ]
  },
  {
   "cell_type": "code",
   "execution_count": 389,
   "metadata": {},
   "outputs": [
    {
     "name": "stdout",
     "output_type": "stream",
     "text": [
      "Read data successfully\n"
     ]
    }
   ],
   "source": [
    "windFarmCoord = pd.read_csv('../../data/coordinates_kronoberg.csv')\n",
    "print('Read data successfully')\n",
    "\n",
    "x_pos, y_pos, z_pos = windFarmCoord[['X (m)','Y (m)','Z (m)']].to_numpy().T"
   ]
  },
  {
   "cell_type": "code",
   "execution_count": 390,
   "metadata": {},
   "outputs": [
    {
     "data": {
      "text/plain": [
       "<matplotlib.collections.PathCollection at 0x2a3122390>"
      ]
     },
     "execution_count": 390,
     "metadata": {},
     "output_type": "execute_result"
    },
    {
     "data": {
      "image/png": "[encoded data removed]",
      "text/plain": [
       "<Figure size 640x480 with 1 Axes>"
      ]
     },
     "metadata": {},
     "output_type": "display_data"
    }
   ],
   "source": [
    "plt.scatter(windFarmCoord['Latitude'],windFarmCoord['Longitude'])\n",
    "plt.scatter(59.205,14.65)\n"
   ]
  },
  {
   "cell_type": "code",
   "execution_count": 391,
   "metadata": {},
   "outputs": [
    {
     "data": {
      "image/png": "[encoded data removed]",
      "text/plain": [
       "<Figure size 1200x600 with 1 Axes>"
      ]
     },
     "metadata": {},
     "output_type": "display_data"
    }
   ],
   "source": [
    "plt.figure(figsize=(12, 6))\n",
    "plt.scatter(x_pos, y_pos, color='blue', s=50, label='Wind Turbine')\n",
    "offset_label = 30\n",
    "# Add annotations for turbine numbers\n",
    "for i, row in windFarmCoord.iterrows():\n",
    "    plt.text(row[\"X (m)\"]+ offset_label, row[\"Y (m)\"]+offset_label, f\"{row['Wind Turbine No.']}\", fontsize=8, ha='right')\n",
    "\n",
    "# Set plot labels and title\n",
    "plt.xlabel(\"X (m)\")\n",
    "plt.ylabel(\"Y (m)\")\n",
    "plt.title(\"Position of Wind Turbines\")\n",
    "plt.legend()\n",
    "plt.grid(True)\n",
    "\n",
    "# Show the plot\n",
    "plt.show()"
   ]
  },
  {
   "cell_type": "code",
   "execution_count": 392,
   "metadata": {},
   "outputs": [],
   "source": [
    "graphs_train = torch.load(train_file_path, weights_only=False)"
   ]
  },
  {
   "cell_type": "code",
   "execution_count": 393,
   "metadata": {},
   "outputs": [],
   "source": [
    "torch.manual_seed(10)\n",
    "train_loader = DataLoader(graphs_train, batch_size=1, shuffle=True,\n",
    "                              exclude_keys=[], num_workers=0, pin_memory=True)"
   ]
  },
  {
   "cell_type": "code",
   "execution_count": 394,
   "metadata": {},
   "outputs": [
    {
     "data": {
      "text/plain": [
       "array([-1197.98709  ,  -374.0119107, -1905.967915 ,   133.9865108,\n",
       "       -1942.976778 , -1499.988555 ,  -298.0137241,   676.006767 ,\n",
       "        1530.022521 ,     0.       ,  -889.9894644, -1386.975916 ,\n",
       "        -850.9990706,   468.0113717,  1287.978809 ,  1031.008371 ])"
      ]
     },
     "execution_count": 394,
     "metadata": {},
     "output_type": "execute_result"
    }
   ],
   "source": [
    "x_pos"
   ]
  },
  {
   "cell_type": "code",
   "execution_count": 395,
   "metadata": {},
   "outputs": [
    {
     "data": {
      "text/plain": [
       "array([1528.998276  , 1213.977835  ,  909.9870152 ,  768.9593547 ,\n",
       "        398.9413305 ,  371.9602201 ,  539.9141179 ,  550.020799  ,\n",
       "         82.94649066,    0.        ,  678.9475984 ,  998.9950777 ,\n",
       "        149.9277825 , 1273.990098  ,  938.970704  ,  499.0076604 ])"
      ]
     },
     "execution_count": 395,
     "metadata": {},
     "output_type": "execute_result"
    }
   ],
   "source": [
    "y_pos"
   ]
  },
  {
   "cell_type": "code",
   "execution_count": 396,
   "metadata": {},
   "outputs": [],
   "source": [
    "coordinates = np.array([x_pos, y_pos]).T"
   ]
  },
  {
   "cell_type": "code",
   "execution_count": 397,
   "metadata": {},
   "outputs": [],
   "source": [
    "test_array = np.array([\n",
    "    [0, 0, 0, 0, 0, 0, 0, 0, 0, 0, 0, 0, 0, 0, 0, 0],\n",
    "    [0, 0, 0, 0, 0, 0, 0, 0, 0, 0, 0, 0, 0, 0, 0, 0],\n",
    "    [0, 0, 0, 0, 0, 0, 0, 0, 0, 0, 0, 0, 0, 0, 0, 0],\n",
    "    [0, 0, 1, 0, 0, 0, 0, 0, 0, 0, 1, 1, 0, 0, 0, 0],\n",
    "    [0, 0, 0, 0, 0, 0, 0, 0, 0, 0, 0, 0, 0, 0, 0, 0],\n",
    "    [0, 0, 0, 0, 1, 0, 0, 0, 0, 0, 0, 0, 0, 0, 0, 0],\n",
    "    [0, 0, 0, 0, 1, 1, 0, 0, 0, 0, 1, 0, 0, 0, 0, 0],\n",
    "    [0, 0, 0, 0, 1, 1, 1, 0, 0, 0, 1, 0, 0, 0, 0, 0],\n",
    "    [0, 0, 0, 0, 0, 0, 0, 0, 0, 1, 0, 0, 1, 0, 0, 0],\n",
    "    [0, 0, 0, 0, 0, 0, 0, 0, 0, 0, 0, 0, 1, 0, 0, 0],\n",
    "    [0, 0, 0, 0, 0, 0, 0, 0, 0, 0, 0, 0, 0, 0, 0, 0],\n",
    "    [0, 0, 1, 0, 0, 0, 0, 0, 0, 0, 0, 0, 0, 0, 0, 0],\n",
    "    [0, 0, 0, 0, 0, 0, 0, 0, 0, 0, 0, 0, 0, 0, 0, 0],\n",
    "    [0, 1, 0, 0, 0, 0, 0, 0, 0, 0, 0, 0, 0, 0, 0, 0],\n",
    "    [0, 0, 0, 1, 0, 0, 0, 0, 0, 0, 1, 1, 0, 0, 0, 0],\n",
    "    [0, 0, 0, 0, 0, 1, 1, 1, 0, 0, 1, 0, 0, 0, 0, 0]\n",
    "])"
   ]
  },
  {
   "cell_type": "code",
   "execution_count": 398,
   "metadata": {},
   "outputs": [],
   "source": [
    "edge_index_test = convert_adjacency_matrix_to_edge_index(test_array)"
   ]
  },
  {
   "cell_type": "code",
   "execution_count": 399,
   "metadata": {},
   "outputs": [
    {
     "name": "stdout",
     "output_type": "stream",
     "text": [
      "tensor([[ 1,  2,  2,  3,  4,  4,  4,  5,  5,  5,  6,  6,  7,  9, 10, 10, 10, 10,\n",
      "         10, 11, 11, 12, 12],\n",
      "        [13,  3, 11, 14,  5,  6,  7,  6,  7, 15,  7, 15, 15,  8,  3,  6,  7, 14,\n",
      "         15,  3, 14,  8,  9]])\n"
     ]
    }
   ],
   "source": [
    "print(edge_index_test)"
   ]
  },
  {
   "cell_type": "markdown",
   "metadata": {},
   "source": [
    "## Analysis of graph\n",
    "This section is an analysis of the directed graph. The node connections compared to the wind direction and the edge attributes. The edge attributes are distance and relative angle between nodes and wind direction. We want the relative angle to be a value between 0 and 1 where 1 means vectors are aligned and 0 means they are not aligned. The distance is scaled using the maximum distance so the values range between 0 and 1."
   ]
  },
  {
   "cell_type": "code",
   "execution_count": 400,
   "metadata": {},
   "outputs": [],
   "source": [
    "#Loading in example data point\n",
    "for data in train_loader:\n",
    "    x = data.x\n",
    "    edge_index = data.edge_index\n",
    "    edge_attribute = data.edge_attr\n",
    "    batch = data.batch\n",
    "    break"
   ]
  },
  {
   "cell_type": "code",
   "execution_count": 401,
   "metadata": {},
   "outputs": [],
   "source": [
    "def get_vector_wind_speed(angle):\n",
    "    rad = np.radians(-angle)\n",
    "\n",
    "    x1 = 0\n",
    "    y1 = -1\n",
    "\n",
    "    x2 = x1*np.cos(rad) - y1*np.sin(rad)\n",
    "    y2 = x1*np.sin(rad) + y1*np.cos(rad)\n",
    "\n",
    "    norm = np.linalg.norm((x2,y2))\n",
    "\n",
    "    x2 = x2/norm* 750\n",
    "    y2 = y2/norm* 750\n",
    "    \n",
    "    return x1,y1,x2, y2\n",
    "\n",
    "\n",
    "def get_vector_bearing(angle):\n",
    "    rad = np.radians(-angle)\n",
    "\n",
    "    x1 = 0\n",
    "    y1 = 1\n",
    "\n",
    "    x2 = x1*np.cos(rad) - y1*np.sin(rad)\n",
    "    y2 = x1*np.sin(rad) + y1*np.cos(rad)\n",
    "\n",
    "    norm = np.linalg.norm((x2,y2))\n",
    "\n",
    "    x2 = x2/norm* 750\n",
    "    y2 = y2/norm* 750\n",
    "\n",
    "    return x1,y1,x2,y2\n"
   ]
  },
  {
   "cell_type": "code",
   "execution_count": 402,
   "metadata": {},
   "outputs": [],
   "source": [
    "def plot_relative_angle(wd,src, dst):\n",
    "\n",
    "    src_pos = coordinates[src]\n",
    "    dst_pos = coordinates[dst]#-np.array([1500,200])\n",
    "    #print('Source position',src_pos)\n",
    "    #print('Destination position',dst_pos)\n",
    "   \n",
    "    dx = dst_pos[0] - src_pos[0]\n",
    "    dy = dst_pos[1] - src_pos[1]\n",
    "\n",
    "    _,_,xwd,ywd = get_vector_wind_speed(wd)\n",
    "\n",
    "    print('Angle vector between nodes' ,np.degrees(np.arctan2(dy, dx)))\n",
    "    print('Angle wind direction vector', np.degrees(np.arctan2(ywd, xwd)))\n",
    "\n",
    "    bearing = (np.degrees(np.arctan2(dx, dy)) + 360) % 360\n",
    "    print('Bearing',bearing)\n",
    "\n",
    "    wd_actual = (wd + 180) % 360\n",
    "    print('Wind direction flipped', wd_actual)\n",
    "\n",
    "    _,_,xb,yb = get_vector_bearing(bearing)\n",
    "\n",
    "    angle = np.degrees(np.arctan2(dy, dx) - np.arctan2(ywd, xwd))\n",
    "\n",
    "    angle_diff_right = (wd_actual - bearing + 360) % 360\n",
    "    angle_diff_left = (bearing - wd_actual + 360) % 360\n",
    "\n",
    "    print('Angle difference right', angle_diff_right)\n",
    "    print('Angle difference left', angle_diff_left)\n",
    "\n",
    "    angle_diff = np.min((angle_diff_right,angle_diff_left))\n",
    "\n",
    "    angle_diff_scaled = 1 - angle_diff/180\n",
    "    print('Angle difference scaled', angle_diff_scaled)\n",
    "\n",
    "    G = nx.DiGraph()\n",
    "    \n",
    "    G.add_node(src, pos=(src_pos))\n",
    "    G.add_node(dst, pos=(dst_pos))\n",
    "\n",
    "    pos = nx.get_node_attributes(G, 'pos')\n",
    "\n",
    "    plt.figure(figsize=(12, 6))\n",
    "    pathcollection = nx.draw_networkx_nodes(G, pos)   \n",
    "    edge_labels = {(node1, node2): f\"{G[node1][node2]['angle']:.2f}\" for node1, node2 in G.edges()}\n",
    "    nx.draw_networkx_edges(G, pos)\n",
    "    nx.draw_networkx_edge_labels(G, pos, edge_labels=edge_labels, font_size=10, font_color='red')\n",
    "    plt.grid()\n",
    "    plt.colorbar(pathcollection)\n",
    "    arrow1 = FancyArrowPatch((src_pos),(src_pos + (xwd,ywd)),mutation_scale=15,color='blue',arrowstyle='->', linewidth=2)\n",
    "    arrow2 = FancyArrowPatch((src_pos),(src_pos + (dx,dy)),mutation_scale=15,color='red',arrowstyle='->', linewidth=2)\n",
    "    arrow3 = FancyArrowPatch((src_pos),(src_pos + (xb,yb)),mutation_scale=15,color='black',arrowstyle='->', linewidth=2)\n",
    "    plt.gca().add_patch(arrow1)\n",
    "    plt.gca().add_patch(arrow2)\n",
    "    plt.gca().add_patch(arrow3)\n",
    "    plt.title('Graph Visualization')\n",
    "    plt.xlim(-1500,1500)\n",
    "    plt.ylim(-1500,1500)\n",
    "    plt.show()\n"
   ]
  },
  {
   "cell_type": "code",
   "execution_count": 403,
   "metadata": {},
   "outputs": [
    {
     "name": "stdout",
     "output_type": "stream",
     "text": [
      "Angle vector between nodes 3.1031152218063287\n",
      "Angle wind direction vector -90.0\n",
      "Bearing 86.89688477819368\n",
      "Wind direction flipped 180\n",
      "Angle difference right 93.10311522180632\n",
      "Angle difference left 266.8968847781937\n",
      "Angle difference scaled 0.4827604709899649\n"
     ]
    },
    {
     "data": {
      "image/png": "[encoded data removed]",
      "text/plain": [
       "<Figure size 1200x600 with 2 Axes>"
      ]
     },
     "metadata": {},
     "output_type": "display_data"
    }
   ],
   "source": [
    "plot_relative_angle(0,9, 8)"
   ]
  },
  {
   "cell_type": "code",
   "execution_count": 404,
   "metadata": {},
   "outputs": [],
   "source": [
    "#Note: This can most likely be written more effectively??\n",
    "def compute_relative_angle(edge_index, coordinates, wd):\n",
    "    angles = []\n",
    "\n",
    "    for src, dst in zip(edge_index[0], edge_index[1]):\n",
    "        src, dst = src.item(), dst.item() \n",
    "        \n",
    "        src_pos = coordinates[src]\n",
    "        dst_pos = coordinates[dst]\n",
    " \n",
    "        dx = dst_pos[0] - src_pos[0]\n",
    "        dy = dst_pos[1] - src_pos[1]\n",
    " \n",
    "        # Compute the bearing of the line from Node 1 to Node 2\n",
    "        # Using np.arctan2(dx, dy) so 0° is north, angles increase clockwise.\n",
    "        bearing = (np.degrees(np.arctan2(dx, dy)) + 360) % 360\n",
    " \n",
    "        # Example: wind \"from\" 45° => actual wind direction is 45 + 180 = 225\n",
    "        wd_actual = (wd + 180) % 360\n",
    "\n",
    "        angle_diff_right = (wd_actual - bearing + 360) % 360\n",
    "        angle_diff_left = (bearing - wd_actual + 360) % 360\n",
    "\n",
    "        angle_diff = np.min((angle_diff_right,angle_diff_left))\n",
    "\n",
    "        angle_diff_scaled = 1 - angle_diff/180\n",
    " \n",
    "        angles.append(angle_diff_scaled)\n",
    "\n",
    "    angles = np.array(angles)\n",
    "    if angles.T.ndim == 1:\n",
    "        angles = angles[:, np.newaxis]\n",
    " \n",
    "    return angles"
   ]
  },
  {
   "cell_type": "code",
   "execution_count": 405,
   "metadata": {},
   "outputs": [],
   "source": [
    "angles = compute_relative_angle(edge_index, coordinates, 315)"
   ]
  },
  {
   "cell_type": "code",
   "execution_count": 406,
   "metadata": {},
   "outputs": [
    {
     "data": {
      "text/plain": [
       "tensor([[0.1812, 0.0153, 0.9977, 0.5481],\n",
       "        [0.1812, 0.0153, 0.9977, 0.5481],\n",
       "        [0.1812, 0.0153, 0.9977, 0.5481],\n",
       "        [0.1812, 0.0153, 0.9977, 0.5481],\n",
       "        [0.1812, 0.0153, 0.9977, 0.5481],\n",
       "        [0.1812, 0.0153, 0.9977, 0.5481],\n",
       "        [0.1812, 0.0153, 0.9977, 0.5481],\n",
       "        [0.1812, 0.0153, 0.9977, 0.5481],\n",
       "        [0.1812, 0.0153, 0.9977, 0.5481],\n",
       "        [0.1812, 0.0153, 0.9977, 0.5481],\n",
       "        [0.1812, 0.0153, 0.9977, 0.5481],\n",
       "        [0.1812, 0.0153, 0.9977, 0.5481],\n",
       "        [0.1812, 0.0153, 0.9977, 0.5481],\n",
       "        [0.1812, 0.0153, 0.9977, 0.5481],\n",
       "        [0.1812, 0.0153, 0.9977, 0.5481],\n",
       "        [0.1812, 0.0153, 0.9977, 0.5481]])"
      ]
     },
     "execution_count": 406,
     "metadata": {},
     "output_type": "execute_result"
    }
   ],
   "source": [
    "x"
   ]
  },
  {
   "cell_type": "code",
   "execution_count": 407,
   "metadata": {},
   "outputs": [
    {
     "data": {
      "text/plain": [
       "tensor([[ 0,  0,  1,  2,  3, 10, 11],\n",
       "        [ 5, 11,  6,  4,  9, 12,  5]])"
      ]
     },
     "execution_count": 407,
     "metadata": {},
     "output_type": "execute_result"
    }
   ],
   "source": [
    "edge_index"
   ]
  },
  {
   "cell_type": "code",
   "execution_count": 408,
   "metadata": {},
   "outputs": [
    {
     "data": {
      "text/plain": [
       "tensor([[0.3384, 0.1074, 0.9937, 0.5792],\n",
       "        [0.1592, 0.1695, 0.9849, 0.6219],\n",
       "        [0.1919, 0.1790, 0.9892, 0.3964],\n",
       "        [0.1450, 0.3007, 0.9999, 0.4880],\n",
       "        [0.2209, 0.5800, 0.9986, 0.5380],\n",
       "        [0.1501, 0.5609, 0.9928, 0.4155],\n",
       "        [0.1803, 0.0621, 0.9983, 0.5409]])"
      ]
     },
     "execution_count": 408,
     "metadata": {},
     "output_type": "execute_result"
    }
   ],
   "source": [
    "edge_attribute"
   ]
  },
  {
   "cell_type": "code",
   "execution_count": 409,
   "metadata": {},
   "outputs": [
    {
     "data": {
      "text/plain": [
       "tensor([ 0,  0,  1,  2,  3, 10, 11])"
      ]
     },
     "execution_count": 409,
     "metadata": {},
     "output_type": "execute_result"
    }
   ],
   "source": [
    "edge_index[0,:]"
   ]
  },
  {
   "cell_type": "code",
   "execution_count": 410,
   "metadata": {},
   "outputs": [],
   "source": [
    "def inverse_transform_wind_direction(sin_val, cos_val):\n",
    "    \"\"\"\n",
    "    Converts sine and cosine components back to wind direction in degrees.\n",
    "    \n",
    "    Parameters:\n",
    "    - sin_val (pd.Series or np.array): Sine of wind direction.\n",
    "    - cos_val (pd.Series or np.array): Cosine of wind direction.\n",
    "\n",
    "    Returns:\n",
    "    - degrees (pd.Series or np.array): Wind direction in degrees (0 to 360).\n",
    "    \"\"\"\n",
    "    radians = np.arctan2(sin_val, cos_val)\n",
    "    degrees = np.rad2deg(radians)\n",
    "    degrees = (degrees + 360) % 360  # Ensure degrees are in [0, 360)\n",
    "    return degrees"
   ]
  },
  {
   "cell_type": "code",
   "execution_count": 411,
   "metadata": {},
   "outputs": [
    {
     "data": {
      "text/plain": [
       "tensor([0.1812, 0.0153, 0.9977, 0.5481])"
      ]
     },
     "execution_count": 411,
     "metadata": {},
     "output_type": "execute_result"
    }
   ],
   "source": [
    "x[0]"
   ]
  },
  {
   "cell_type": "code",
   "execution_count": 412,
   "metadata": {},
   "outputs": [
    {
     "name": "stdout",
     "output_type": "stream",
     "text": [
      "5.5101533\n"
     ]
    }
   ],
   "source": [
    "angle_wd = x[:,1].numpy() * 360#(360 - 0.01) - 0.01\n",
    "print(angle_wd[0])"
   ]
  },
  {
   "cell_type": "code",
   "execution_count": 413,
   "metadata": {},
   "outputs": [
    {
     "name": "stdout",
     "output_type": "stream",
     "text": [
      "tensor(5.5200)\n"
     ]
    }
   ],
   "source": [
    "cos_val = x[0, 2] * 2 - 1\n",
    "sin_val = x[0, 3] * 2 - 1\n",
    "\n",
    "degrees = inverse_transform_wind_direction(sin_val, cos_val)\n",
    "print(degrees)"
   ]
  },
  {
   "cell_type": "code",
   "execution_count": 414,
   "metadata": {},
   "outputs": [],
   "source": [
    "ei = torch.where(edge_index[0,:] == 3)[0].numpy()"
   ]
  },
  {
   "cell_type": "code",
   "execution_count": 415,
   "metadata": {},
   "outputs": [],
   "source": [
    "def plot_directed_graph_node(node_index):\n",
    "    #Plot for one node!\n",
    "    ei = torch.where(edge_index[0,:] == node_index)[0].numpy()\n",
    "\n",
    "    G = nx.DiGraph()\n",
    "\n",
    "    for i in range(x.shape[0]):\n",
    "        j = i%16\n",
    "        G.add_node(i, pos=(x_pos[j], y_pos[j]))\n",
    "\n",
    "    for i in ei:\n",
    "        node1 = edge_index[0, i].item()\n",
    "        node2 = edge_index[1, i].item()\n",
    "        G.add_edge(node1,node2)\n",
    "        sin_val = edge_attribute[i, -1].item() * 2 - 1\n",
    "        cos_val = edge_attribute[i, -2].item() * 2 - 1\n",
    "        angle_node = inverse_transform_wind_direction(sin_val, cos_val)\n",
    "        G[node1][node2][\"angle\"] = angle_node\n",
    "        G[node1][node2][\"distance\"] = edge_attribute[i, 0].item()\n",
    "\n",
    "    pos = nx.get_node_attributes(G, 'pos')\n",
    "\n",
    "    node_colors = x[:,0].numpy()\n",
    "    #sm = plt.cm.ScalarMappable(cmap='viridis', norm=plt.Normalize(vmin=0, vmax=1))\n",
    "\n",
    "    node_size = x[:,0].numpy() * 100\n",
    "\n",
    "    angle_wd = x[:,1].numpy() * 360\n",
    "    print(angle_wd)\n",
    "\n",
    "    cos_val = x[0, 2] * 2 - 1\n",
    "    sin_val = x[0, 3] * 2 - 1\n",
    "\n",
    "    degrees = inverse_transform_wind_direction(sin_val, cos_val)\n",
    "\n",
    "    x1,y1,x2,y2 = get_vector_wind_speed(degrees)\n",
    "\n",
    "    plt.figure(figsize=(12, 6))  # Set the size of the plot\n",
    "    print(G.edges())\n",
    "\n",
    "    pathcollection = nx.draw_networkx_nodes(G, pos, node_color=node_colors,node_size=node_size)   \n",
    "    edge_labels = {(node1, node2): f\"{G[node1][node2]['angle']:.2f}\" for node1, node2 in G.edges()}\n",
    "    print(edge_labels)\n",
    "    nx.draw_networkx_edges(G, pos)\n",
    "    nx.draw_networkx_edge_labels(G, pos, edge_labels=edge_labels, font_size=10, font_color='red')\n",
    "    plt.axis('on')\n",
    "    plt.grid()\n",
    "    plt.colorbar(pathcollection)\n",
    "    arrow = FancyArrowPatch((coordinates[node_index,0],coordinates[node_index,1]),(coordinates[node_index,0] + x2,coordinates[node_index,1]+ y2),mutation_scale=15,color='blue',arrowstyle='->', linewidth=2)\n",
    "    plt.title('Graph Visualization')\n",
    "    plt.gca().add_patch(arrow)\n",
    "    plt.show()"
   ]
  },
  {
   "cell_type": "code",
   "execution_count": 416,
   "metadata": {},
   "outputs": [
    {
     "name": "stdout",
     "output_type": "stream",
     "text": [
      "[5.5101533 5.5101533 5.5101533 5.5101533 5.5101533 5.5101533 5.5101533\n",
      " 5.5101533 5.5101533 5.5101533 5.5101533 5.5101533 5.5101533 5.5101533\n",
      " 5.5101533 5.5101533]\n",
      "[(10, 12)]\n",
      "{(10, 12): '350.26'}\n"
     ]
    },
    {
     "data": {
      "image/png": "[encoded data removed]",
      "text/plain": [
       "<Figure size 1200x600 with 2 Axes>"
      ]
     },
     "metadata": {},
     "output_type": "display_data"
    }
   ],
   "source": [
    "plot_directed_graph_node(10)"
   ]
  },
  {
   "cell_type": "markdown",
   "metadata": {},
   "source": [
    "### For all graphs analyse if we have isolated nodes\n",
    "Save and create a histogram"
   ]
  },
  {
   "cell_type": "code",
   "execution_count": 186,
   "metadata": {},
   "outputs": [
    {
     "name": "stdout",
     "output_type": "stream",
     "text": [
      "5040\n"
     ]
    }
   ],
   "source": [
    "print(len(train_loader))"
   ]
  },
  {
   "cell_type": "code",
   "execution_count": 182,
   "metadata": {},
   "outputs": [],
   "source": [
    "number_edges = []\n",
    "number_isolated_nodes = []\n",
    "\n",
    "node_numbers = {0,1,2,3,4,5,6,7,8,9,10,11,12,13,14,15}\n",
    "\n",
    "for data in train_loader:\n",
    "    x = data.x\n",
    "    edge_index = data.edge_index.numpy()\n",
    "    edge_attribute = data.edge_attr\n",
    "\n",
    "\n",
    "    sources = set(edge_index[0, :]) #edge_index[0, :]\n",
    "    targets = set(edge_index[1, :])\n",
    "\n",
    "    nodes_graph = set.union(sources,targets)\n",
    "    #print(nodes_graph)\n",
    "    #print(len(nodes_graph))\n",
    "\n",
    "    number_isolated_nodes.append(16-len(nodes_graph))\n",
    "\n",
    "    number_edges.append(edge_index.shape[1])\n",
    "    "
   ]
  },
  {
   "cell_type": "code",
   "execution_count": 183,
   "metadata": {},
   "outputs": [
    {
     "name": "stdout",
     "output_type": "stream",
     "text": [
      "18\n"
     ]
    }
   ],
   "source": [
    "print(min(number_edges))"
   ]
  },
  {
   "cell_type": "code",
   "execution_count": 184,
   "metadata": {},
   "outputs": [
    {
     "data": {
      "text/plain": [
       "1"
      ]
     },
     "execution_count": 184,
     "metadata": {},
     "output_type": "execute_result"
    }
   ],
   "source": [
    "max(number_isolated_nodes)"
   ]
  },
  {
   "cell_type": "code",
   "execution_count": 185,
   "metadata": {},
   "outputs": [
    {
     "data": {
      "image/png": "[encoded data removed]",
      "text/plain": [
       "<Figure size 640x480 with 1 Axes>"
      ]
     },
     "metadata": {},
     "output_type": "display_data"
    }
   ],
   "source": [
    "plt.hist(number_isolated_nodes, bins = 20)\n",
    "plt.show()"
   ]
  },
  {
   "cell_type": "markdown",
   "metadata": {},
   "source": [
    "### Analysing split function"
   ]
  },
  {
   "cell_type": "code",
   "execution_count": null,
   "metadata": {},
   "outputs": [],
   "source": [
    "def get_split_index(y):\n",
    "    rng = np.random.RandomState(42) #Setting seed\n",
    "    N = len(y) \n",
    "\n",
    "    indices = np.arange(N)\n",
    "\n",
    "    val_size = 0.1\n",
    "    train_size = 0.1\n",
    "\n",
    "    train_val_size = int(N *(val_size+train_size))\n",
    "\n",
    "    valid_rows = ~np.isnan(y).any(axis=1)\n",
    "\n",
    "    true_idx = np.argwhere(valid_rows)\n",
    "\n",
    "    if train_val_size > len(true_idx):\n",
    "        raise ValueError(f\"Validation/test size must be smaller. Only {len(true_idx)} values available.\")\n",
    "    \n",
    "\n",
    "    #Selecting index\n",
    "    random_idx = rng.choice(len(true_idx),size=train_val_size, replace=False)\n",
    "    random_index = true_idx[random_idx]\n",
    "\n",
    "    train_indices = np.setdiff1d(indices,random_index)\n",
    "\n",
    "    val_indices = random_index[0:int(N*val_size)].flatten()\n",
    "    test_indices = random_index[int(N*val_size):].flatten()\n",
    "\n",
    "    return train_indices,val_indices,test_indices\n"
   ]
  },
  {
   "cell_type": "code",
   "execution_count": null,
   "metadata": {},
   "outputs": [],
   "source": [
    "num_turbines = 16\n",
    "data_columns = ['ws_000', 'wd_001']\n",
    "\n",
    "df = pd.read_parquet('/Users/lisavind/GitHub/wind_power_prediction/data/SCADA_filtered_2020-01-01__2024-12-01.parquet')\n",
    "\n",
    "\n",
    "X = df[data_columns].to_numpy()\n",
    "y = df[[f'pow_{str(i).zfill(3)}' for i in range(num_turbines)]].values\n",
    "\n",
    "valid_rows = ~np.isnan(X).any(axis=1)\n",
    "X = X[valid_rows]\n",
    "y = y[valid_rows]"
   ]
  },
  {
   "cell_type": "code",
   "execution_count": null,
   "metadata": {},
   "outputs": [],
   "source": [
    "train_indices,val_indices,test_indices = get_split_index(y)"
   ]
  },
  {
   "cell_type": "code",
   "execution_count": null,
   "metadata": {},
   "outputs": [
    {
     "name": "stdout",
     "output_type": "stream",
     "text": [
      "151357\n"
     ]
    }
   ],
   "source": [
    "print(len(train_indices))"
   ]
  },
  {
   "cell_type": "code",
   "execution_count": null,
   "metadata": {},
   "outputs": [
    {
     "name": "stdout",
     "output_type": "stream",
     "text": [
      "<class 'numpy.ndarray'>\n"
     ]
    }
   ],
   "source": [
    "print(type(train_indices))"
   ]
  },
  {
   "cell_type": "code",
   "execution_count": null,
   "metadata": {},
   "outputs": [],
   "source": [
    "np.random.shuffle(train_indices)"
   ]
  },
  {
   "cell_type": "code",
   "execution_count": null,
   "metadata": {},
   "outputs": [],
   "source": [
    "test = [0,1,2,3,4,5]"
   ]
  },
  {
   "cell_type": "code",
   "execution_count": 154,
   "metadata": {},
   "outputs": [
    {
     "name": "stdout",
     "output_type": "stream",
     "text": [
      "[array([22880, 75522,  3527, ..., 41417, 87131, 51148]), array([33207, 29804, 28723, ..., 21161, 13775, 65193]), array([55497, 57397,  2350, ..., 63567,  3460,  1396])]\n"
     ]
    }
   ],
   "source": [
    "with open('/Users/lisavind/GitHub/wind_power_prediction/data/graphs/directed_True_simulated_True_local_False_global_True_D_136_length_2720_width_3_angle_25/index.pkl', \"rb\") as f:\n",
    "    loaded_array = pickle.load(f)\n",
    "\n",
    "print(loaded_array)"
   ]
  },
  {
   "cell_type": "code",
   "execution_count": null,
   "metadata": {},
   "outputs": [],
   "source": []
  },
  {
   "cell_type": "code",
   "execution_count": 222,
   "metadata": {},
   "outputs": [],
   "source": [
    "df = pd.read_parquet('/Users/lisavind/GitHub/wind_power_prediction/data_simulated/floris_simulated_era5.parquet')"
   ]
  },
  {
   "cell_type": "code",
   "execution_count": 223,
   "metadata": {},
   "outputs": [
    {
     "data": {
      "text/html": [
       "<div>\n",
       "<style scoped>\n",
       "    .dataframe tbody tr th:only-of-type {\n",
       "        vertical-align: middle;\n",
       "    }\n",
       "\n",
       "    .dataframe tbody tr th {\n",
       "        vertical-align: top;\n",
       "    }\n",
       "\n",
       "    .dataframe thead th {\n",
       "        text-align: right;\n",
       "    }\n",
       "</style>\n",
       "<table border=\"1\" class=\"dataframe\">\n",
       "  <thead>\n",
       "    <tr style=\"text-align: right;\">\n",
       "      <th></th>\n",
       "      <th>wd</th>\n",
       "      <th>ws</th>\n",
       "      <th>ti</th>\n",
       "      <th>pow_000</th>\n",
       "      <th>pow_001</th>\n",
       "      <th>pow_002</th>\n",
       "      <th>pow_003</th>\n",
       "      <th>pow_004</th>\n",
       "      <th>pow_005</th>\n",
       "      <th>pow_006</th>\n",
       "      <th>...</th>\n",
       "      <th>pow_008</th>\n",
       "      <th>pow_009</th>\n",
       "      <th>pow_010</th>\n",
       "      <th>pow_011</th>\n",
       "      <th>pow_012</th>\n",
       "      <th>pow_013</th>\n",
       "      <th>pow_014</th>\n",
       "      <th>pow_015</th>\n",
       "      <th>wd_sin</th>\n",
       "      <th>wd_cos</th>\n",
       "    </tr>\n",
       "  </thead>\n",
       "  <tbody>\n",
       "    <tr>\n",
       "      <th>0</th>\n",
       "      <td>254.69</td>\n",
       "      <td>8.76</td>\n",
       "      <td>0.11</td>\n",
       "      <td>2689.843</td>\n",
       "      <td>1691.157</td>\n",
       "      <td>2689.843</td>\n",
       "      <td>1426.915</td>\n",
       "      <td>2689.843</td>\n",
       "      <td>2626.169</td>\n",
       "      <td>2542.937</td>\n",
       "      <td>...</td>\n",
       "      <td>2689.817</td>\n",
       "      <td>2689.843</td>\n",
       "      <td>1254.933</td>\n",
       "      <td>1228.772</td>\n",
       "      <td>2689.843</td>\n",
       "      <td>2409.676</td>\n",
       "      <td>1594.364</td>\n",
       "      <td>2430.671</td>\n",
       "      <td>-0.964511</td>\n",
       "      <td>-0.264041</td>\n",
       "    </tr>\n",
       "    <tr>\n",
       "      <th>1</th>\n",
       "      <td>254.73</td>\n",
       "      <td>8.86</td>\n",
       "      <td>0.07</td>\n",
       "      <td>2771.500</td>\n",
       "      <td>1715.721</td>\n",
       "      <td>2771.500</td>\n",
       "      <td>1392.523</td>\n",
       "      <td>2771.500</td>\n",
       "      <td>2721.967</td>\n",
       "      <td>2650.218</td>\n",
       "      <td>...</td>\n",
       "      <td>2771.499</td>\n",
       "      <td>2771.500</td>\n",
       "      <td>1078.034</td>\n",
       "      <td>1155.392</td>\n",
       "      <td>2771.500</td>\n",
       "      <td>2561.522</td>\n",
       "      <td>1606.367</td>\n",
       "      <td>2556.859</td>\n",
       "      <td>-0.964695</td>\n",
       "      <td>-0.263368</td>\n",
       "    </tr>\n",
       "    <tr>\n",
       "      <th>2</th>\n",
       "      <td>254.76</td>\n",
       "      <td>8.95</td>\n",
       "      <td>0.09</td>\n",
       "      <td>2844.992</td>\n",
       "      <td>1770.672</td>\n",
       "      <td>2844.992</td>\n",
       "      <td>1492.042</td>\n",
       "      <td>2844.992</td>\n",
       "      <td>2787.344</td>\n",
       "      <td>2705.157</td>\n",
       "      <td>...</td>\n",
       "      <td>2844.984</td>\n",
       "      <td>2844.992</td>\n",
       "      <td>1239.461</td>\n",
       "      <td>1248.337</td>\n",
       "      <td>2844.992</td>\n",
       "      <td>2598.067</td>\n",
       "      <td>1675.960</td>\n",
       "      <td>2596.590</td>\n",
       "      <td>-0.964833</td>\n",
       "      <td>-0.262863</td>\n",
       "    </tr>\n",
       "    <tr>\n",
       "      <th>3</th>\n",
       "      <td>254.80</td>\n",
       "      <td>9.05</td>\n",
       "      <td>0.12</td>\n",
       "      <td>2920.304</td>\n",
       "      <td>1848.475</td>\n",
       "      <td>2920.304</td>\n",
       "      <td>1612.109</td>\n",
       "      <td>2920.304</td>\n",
       "      <td>2856.428</td>\n",
       "      <td>2759.922</td>\n",
       "      <td>...</td>\n",
       "      <td>2920.262</td>\n",
       "      <td>2920.304</td>\n",
       "      <td>1445.401</td>\n",
       "      <td>1365.385</td>\n",
       "      <td>2920.304</td>\n",
       "      <td>2623.847</td>\n",
       "      <td>1763.899</td>\n",
       "      <td>2635.992</td>\n",
       "      <td>-0.965016</td>\n",
       "      <td>-0.262189</td>\n",
       "    </tr>\n",
       "    <tr>\n",
       "      <th>4</th>\n",
       "      <td>254.83</td>\n",
       "      <td>9.14</td>\n",
       "      <td>0.11</td>\n",
       "      <td>2974.652</td>\n",
       "      <td>1883.014</td>\n",
       "      <td>2974.652</td>\n",
       "      <td>1646.452</td>\n",
       "      <td>2974.652</td>\n",
       "      <td>2927.060</td>\n",
       "      <td>2838.747</td>\n",
       "      <td>...</td>\n",
       "      <td>2974.629</td>\n",
       "      <td>2974.652</td>\n",
       "      <td>1450.049</td>\n",
       "      <td>1385.254</td>\n",
       "      <td>2974.652</td>\n",
       "      <td>2716.067</td>\n",
       "      <td>1801.427</td>\n",
       "      <td>2717.166</td>\n",
       "      <td>-0.965154</td>\n",
       "      <td>-0.261684</td>\n",
       "    </tr>\n",
       "  </tbody>\n",
       "</table>\n",
       "<p>5 rows × 21 columns</p>\n",
       "</div>"
      ],
      "text/plain": [
       "       wd    ws    ti   pow_000   pow_001   pow_002   pow_003   pow_004  \\\n",
       "0  254.69  8.76  0.11  2689.843  1691.157  2689.843  1426.915  2689.843   \n",
       "1  254.73  8.86  0.07  2771.500  1715.721  2771.500  1392.523  2771.500   \n",
       "2  254.76  8.95  0.09  2844.992  1770.672  2844.992  1492.042  2844.992   \n",
       "3  254.80  9.05  0.12  2920.304  1848.475  2920.304  1612.109  2920.304   \n",
       "4  254.83  9.14  0.11  2974.652  1883.014  2974.652  1646.452  2974.652   \n",
       "\n",
       "    pow_005   pow_006  ...   pow_008   pow_009   pow_010   pow_011   pow_012  \\\n",
       "0  2626.169  2542.937  ...  2689.817  2689.843  1254.933  1228.772  2689.843   \n",
       "1  2721.967  2650.218  ...  2771.499  2771.500  1078.034  1155.392  2771.500   \n",
       "2  2787.344  2705.157  ...  2844.984  2844.992  1239.461  1248.337  2844.992   \n",
       "3  2856.428  2759.922  ...  2920.262  2920.304  1445.401  1365.385  2920.304   \n",
       "4  2927.060  2838.747  ...  2974.629  2974.652  1450.049  1385.254  2974.652   \n",
       "\n",
       "    pow_013   pow_014   pow_015    wd_sin    wd_cos  \n",
       "0  2409.676  1594.364  2430.671 -0.964511 -0.264041  \n",
       "1  2561.522  1606.367  2556.859 -0.964695 -0.263368  \n",
       "2  2598.067  1675.960  2596.590 -0.964833 -0.262863  \n",
       "3  2623.847  1763.899  2635.992 -0.965016 -0.262189  \n",
       "4  2716.067  1801.427  2717.166 -0.965154 -0.261684  \n",
       "\n",
       "[5 rows x 21 columns]"
      ]
     },
     "execution_count": 223,
     "metadata": {},
     "output_type": "execute_result"
    }
   ],
   "source": [
    "df.head()"
   ]
  },
  {
   "cell_type": "code",
   "execution_count": 225,
   "metadata": {},
   "outputs": [
    {
     "name": "stdout",
     "output_type": "stream",
     "text": [
      "0        254.69\n",
      "1        254.73\n",
      "2        254.76\n",
      "3        254.80\n",
      "4        254.83\n",
      "          ...  \n",
      "82683    240.88\n",
      "82684    240.26\n",
      "82685    239.64\n",
      "82686    239.01\n",
      "82687    237.40\n",
      "Name: degrees_2, Length: 82688, dtype: float64\n"
     ]
    }
   ],
   "source": [
    "def inverse_transform_wind_direction(row):\n",
    "    \"\"\"\n",
    "    Converts sine and cosine components back to wind direction in degrees.\n",
    "\n",
    "    Parameters:\n",
    "    - row (pd.Series): A row of the DataFrame containing sine and cosine values.\n",
    "\n",
    "    Returns:\n",
    "    - float: Wind direction in degrees (0 to 360).\n",
    "    \"\"\"\n",
    "    sin_val = row['wd_sin']\n",
    "    cos_val = row['wd_cos']\n",
    "    radians = np.arctan2(sin_val, cos_val)\n",
    "    degrees = np.rad2deg(radians)\n",
    "    degrees = (degrees + 360) % 360  # Ensure degrees are in [0, 360)\n",
    "    return degrees\n",
    "\n",
    "# Apply the function row-wise\n",
    "df['degrees_2'] = df.apply(inverse_transform_wind_direction, axis=1)\n",
    "\n",
    "# Print the resulting degrees column\n",
    "print(df['degrees_2'])"
   ]
  },
  {
   "cell_type": "code",
   "execution_count": 204,
   "metadata": {},
   "outputs": [],
   "source": [
    "objects = []\n",
    "with (open(\"/Users/lisavind/GitHub/wind_power_prediction/data/graphs/directed_True_simulated_True_local_False_global_True_features_4_D_136_length_2720_width_2_angle_3/scaler_x.pk\", \"rb\")) as openfile:\n",
    "    while True:\n",
    "        try:\n",
    "            objects.append(pickle.load(openfile))\n",
    "        except EOFError:\n",
    "            break"
   ]
  },
  {
   "cell_type": "code",
   "execution_count": 207,
   "metadata": {},
   "outputs": [
    {
     "data": {
      "text/plain": [
       "array([ 0.41,  0.01, -1.  , -1.  ])"
      ]
     },
     "execution_count": 207,
     "metadata": {},
     "output_type": "execute_result"
    }
   ],
   "source": [
    "objects[0].data_min_"
   ]
  },
  {
   "cell_type": "code",
   "execution_count": 208,
   "metadata": {},
   "outputs": [
    {
     "data": {
      "text/plain": [
       "array([ 15.86, 360.  ,   1.  ,   1.  ])"
      ]
     },
     "execution_count": 208,
     "metadata": {},
     "output_type": "execute_result"
    }
   ],
   "source": [
    "objects[0].data_max_"
   ]
  }
 ],
 "metadata": {
  "kernelspec": {
   "display_name": "master",
   "language": "python",
   "name": "python3"
  },
  "language_info": {
   "codemirror_mode": {
    "name": "ipython",
    "version": 3
   },
   "file_extension": ".py",
   "mimetype": "text/x-python",
   "name": "python",
   "nbconvert_exporter": "python",
   "pygments_lexer": "ipython3",
   "version": "3.12.8"
  }
 },
 "nbformat": 4,
 "nbformat_minor": 2
}
